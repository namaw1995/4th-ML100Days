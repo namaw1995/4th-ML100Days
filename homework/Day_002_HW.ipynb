{
 "cells": [
  {
   "cell_type": "markdown",
   "metadata": {},
   "source": [
    "## [作業目標]\n",
    "了解機器學習適合應用的領域與範疇。"
   ]
  },
  {
   "cell_type": "markdown",
   "metadata": {},
   "source": [
    "## [作業重點]\n",
    "透過瞭解機器學習的運作方式，找出非常適用機器學習應用的領域及其原因"
   ]
  },
  {
   "cell_type": "markdown",
   "metadata": {},
   "source": [
    "## 作業\n",
    "請找出一個你認為機器學習可以發光發熱的領域並闡述原因? \n",
    "\n",
    "醫學診斷。\n",
    "醫學是一個很複雜的類別，病理診斷仰賴醫生大量的臨床經驗與觀察，若能將同一種病例的過往病例透過機器學習去歸納分析，可以做為主治醫師在做最終診斷的一個判斷依據。醫學之所以複雜，源於生命體的不可預測性，有時相同的病會有不同程度的表現甚至不同症狀，透過機器學習可以將過往的病例會診，根據病人條件去搜尋以往最接近的案例，進而做精準的診斷，相當於好幾個醫生在幫病人做診斷。"
   ]
  }
 ],
 "metadata": {
  "kernelspec": {
   "display_name": "Python 3",
   "language": "python",
   "name": "python3"
  },
  "language_info": {
   "codemirror_mode": {
    "name": "ipython",
    "version": 3
   },
   "file_extension": ".py",
   "mimetype": "text/x-python",
   "name": "python",
   "nbconvert_exporter": "python",
   "pygments_lexer": "ipython3",
   "version": "3.7.4"
  }
 },
 "nbformat": 4,
 "nbformat_minor": 2
}
